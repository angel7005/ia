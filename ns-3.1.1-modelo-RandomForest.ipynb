{
 "cells": [
  {
   "cell_type": "code",
   "execution_count": 1,
   "id": "5753272a-911d-44dd-9bcb-a8192ca6cdb1",
   "metadata": {},
   "outputs": [],
   "source": [
    "import numpy as np\n",
    "import pandas as pd\n",
    "\n",
    "from sklearn.model_selection import cross_val_score\n",
    "from sklearn.pipeline import Pipeline\n",
    "from sklearn.model_selection import GridSearchCV\n",
    "from sklearn.ensemble import RandomForestClassifier\n",
    "from sklearn.metrics import make_scorer, f1_score\n",
    "from sklearn.metrics import ConfusionMatrixDisplay\n",
    "from sklearn import preprocessing"
   ]
  },
  {
   "cell_type": "code",
   "execution_count": 2,
   "id": "942d0a52-da43-4701-9826-70b073fc14b5",
   "metadata": {},
   "outputs": [
    {
     "name": "stdout",
     "output_type": "stream",
     "text": [
      "       SeniorCitizen       tenure  MonthlyCharges        Churn\n",
      "count    7032.000000  7032.000000     7032.000000  7032.000000\n",
      "mean        0.162400    32.421786       64.798208     0.265785\n",
      "std         0.368844    24.545260       30.085974     0.441782\n",
      "min         0.000000     1.000000       18.250000     0.000000\n",
      "25%         0.000000     9.000000       35.587500     0.000000\n",
      "50%         0.000000    29.000000       70.350000     0.000000\n",
      "75%         0.000000    55.000000       89.862500     1.000000\n",
      "max         1.000000    72.000000      118.750000     1.000000\n"
     ]
    }
   ],
   "source": [
    "## 1- Preparacion de los datos\n",
    "# 1.1- Carga desde fichero y mostrar estadisticas\n",
    "X = pd.read_csv('./dataset_churn_all.csv', index_col=0)\n",
    "\n",
    "# Valores vacios se inicializan a 0.0 si se deciden incluirse. Leer REAMDE.md\n",
    "#X['TotalCharges'].replace([' '],[0.0], inplace=True) \n",
    "X['Churn'].replace(['No','Yes'],[0,1], inplace=True)\n",
    "\n",
    "# Valores vacios se eliminan, leer README.md\n",
    "X = X.loc[(X['TotalCharges']!=' ')]\n",
    "\n",
    "#Se muestran principales estadigrafos del modelo\n",
    "print(X.describe())"
   ]
  },
  {
   "cell_type": "code",
   "execution_count": 3,
   "id": "732be6d7-70a1-4b0f-9dd0-8261656820b7",
   "metadata": {},
   "outputs": [],
   "source": [
    "# 1.2 - Transformar variables tipo categorica a numericas\n",
    "le = preprocessing.LabelEncoder()\n",
    "X['gender'] = le.fit_transform(X['gender'])\n",
    "X['Partner'] = le.fit_transform(X['Partner'])\n",
    "X['Dependents'] = le.fit_transform(X['Dependents'])\n",
    "X['PhoneService'] = le.fit_transform(X['PhoneService'])\n",
    "X['MultipleLines'] = le.fit_transform(X['MultipleLines'])\n",
    "X['InternetService'] = le.fit_transform(X['InternetService'])\n",
    "X['OnlineSecurity'] = le.fit_transform(X['OnlineSecurity'])\n",
    "X['OnlineBackup'] = le.fit_transform(X['OnlineBackup'])\n",
    "X['DeviceProtection'] = le.fit_transform(X['DeviceProtection'])\n",
    "X['TechSupport'] = le.fit_transform(X['TechSupport'])\n",
    "X['StreamingTV'] = le.fit_transform(X['StreamingTV'])\n",
    "X['StreamingMovies'] = le.fit_transform(X['StreamingMovies'])\n",
    "X['Contract'] = le.fit_transform(X['Contract'])\n",
    "X['PaperlessBilling'] = le.fit_transform(X['PaperlessBilling'])\n",
    "X['PaymentMethod'] = le.fit_transform(X['PaymentMethod'])"
   ]
  },
  {
   "cell_type": "code",
   "execution_count": 4,
   "id": "247fb791-35ef-4b08-97ea-c3fd58fc16ce",
   "metadata": {},
   "outputs": [],
   "source": [
    "# 2- Dividir la muestra en entrenamiento con 90% y prueba 10%\n",
    "\n",
    "X1 = X.iloc[:int(len(X)*0.9)]\n",
    "X2 = X.iloc[int(len(X)*0.1)*-1:]\n",
    "X_train = X1.drop(['Churn'], axis=1)\n",
    "X_test  = X2.drop(['Churn'], axis=1)\n",
    "\n",
    "y_train = X1['Churn']\n",
    "y_test  = X2['Churn']"
   ]
  },
  {
   "cell_type": "code",
   "execution_count": null,
   "id": "c08b723f-01ff-40cf-9ad3-8e52dc891886",
   "metadata": {},
   "outputs": [
    {
     "name": "stdout",
     "output_type": "stream",
     "text": [
      "Fitting 5 folds for each of 216 candidates, totalling 1080 fits\n"
     ]
    }
   ],
   "source": [
    "# 3- Se selecciona algoritmo randomForest\n",
    "#    Optimizar rendimiento del modelo\n",
    "#    Buscar los parametros optimos con GridSearchCV, \n",
    "#    Utilizando validacion cruzada, para mejor generalizacion del modeo, evitando el sobre ajuste.\n",
    "rf = RandomForestClassifier(criterion='entropy',random_state=42)\n",
    "\n",
    "pipeline = Pipeline([('rf',  rf),])\n",
    "\n",
    "# Parametros del espacio de busqueda asociado a RandomForest\n",
    "parameters = {\n",
    "\t'rf__n_estimators': (100,200, 300),\n",
    "\t'rf__max_depth': (5, 15, 25),\n",
    "\t'rf__min_samples_split': (2,3),\n",
    "\t'rf__min_samples_leaf': (1,2 ),\n",
    "\t#'rf__class_weight': ({'No':1, 'Yes':4}, {'No':1, 'Yes':10}),\n",
    "    'rf__class_weight': ({0:1, 1:4}, {0:1, 1:10}),\n",
    "\t'rf__max_features': (5,10,15)\n",
    "}\n",
    "\n",
    "# Metricas de precision a utilizar para la optimizacion de los parametros\n",
    "scorers = {\n",
    "    #'f1': make_scorer(f1_score, labels= ('No', 'Yes'), pos_label ='Yes')   \n",
    "    'f1': make_scorer(f1_score)   \n",
    " }\n",
    "\n",
    "# Buscar mejor ajuste\n",
    "grid_search = GridSearchCV(pipeline, parameters,  n_jobs=-1, verbose=1, scoring=scorers['f1'], \n",
    "\t   error_score='raise', cv=5)\n",
    "grid_search.fit(X_train, y_train)\t"
   ]
  },
  {
   "cell_type": "code",
   "execution_count": null,
   "id": "cb538508-0b91-4d9b-8805-8513b7f41540",
   "metadata": {},
   "outputs": [],
   "source": [
    "# Mostrar los parametros optimos del modelo\n",
    "print(\"Mejor score: %0.3f\" % grid_search.best_score_)\n",
    "print(\"Mejor conjunto de parametros:\")\n",
    "best_parameters = grid_search.best_estimator_.get_params()\n",
    "\n",
    "for param_name in sorted(parameters.keys()):\n",
    "\tprint(\"\\t%s: %r\" % (param_name, best_parameters[param_name]))\n"
   ]
  },
  {
   "cell_type": "code",
   "execution_count": null,
   "id": "eb4b3c98-bdba-4d40-8ee8-17a18be3423d",
   "metadata": {},
   "outputs": [],
   "source": []
  },
  {
   "cell_type": "code",
   "execution_count": null,
   "id": "0dc97da7-7ccd-4ea0-ab76-5626f8c8d822",
   "metadata": {},
   "outputs": [],
   "source": [
    "#Mostrar el rendimiento del modelo\n",
    "from sklearn.metrics import classification_report\n",
    "\n",
    "predictions = grid_search.predict(X_test)\n",
    "#print(classification_report(y_test, predictions, target_names=('No', 'Yes',), labels=('No', 'Yes',), digits=4))\n",
    "print(classification_report(y_test, predictions, digits=4))"
   ]
  },
  {
   "cell_type": "code",
   "execution_count": null,
   "id": "22cfb288-2df4-499b-b8b1-d3d74648624e",
   "metadata": {},
   "outputs": [],
   "source": [
    "#Mostrar matrix de confusion\n",
    "disp = ConfusionMatrixDisplay.from_predictions(y_test, predictions)"
   ]
  },
  {
   "cell_type": "code",
   "execution_count": null,
   "id": "ed075c54-cb46-423c-a300-7fe1184ea9cf",
   "metadata": {},
   "outputs": [],
   "source": [
    "# Validacion cruzada del modelo con 5 particiones\n",
    "import numpy as np\n",
    "from sklearn.model_selection import cross_val_score\n",
    "scores = cross_val_score(rf, X_test, y_test, cv=5 ) #por defecto 5 particiones\n",
    "print(scores) #los valores individuales de cada partición\n",
    "print(np.mean(scores)) #la media de acierto global"
   ]
  },
  {
   "cell_type": "code",
   "execution_count": null,
   "id": "e5c1d13b-70cf-441b-a161-116bbbec8b76",
   "metadata": {},
   "outputs": [],
   "source": [
    "# Validacion cruzada del modelo con 7 particiones\n",
    "scores = cross_val_score(rf, X_test, y_test, cv=7) #por defecto 5 particiones\n",
    "print(scores) #los valores individuales de cada partición\n",
    "print(np.mean(scores)) #la media de acierto global"
   ]
  },
  {
   "cell_type": "code",
   "execution_count": null,
   "id": "9dacd643-c255-423f-af90-9ccca0dc14b7",
   "metadata": {},
   "outputs": [],
   "source": [
    "# Validacion cruzada del modelo con 10 particiones\n",
    "scores = cross_val_score(rf, X_test, y_test, cv=10) #por defecto 5 particiones\n",
    "print(scores) #los valores individuales de cada partición\n",
    "print(np.mean(scores)) #la media de acierto global"
   ]
  },
  {
   "cell_type": "code",
   "execution_count": null,
   "id": "2b619e17-6c58-4654-87e7-1c2c43c6a0d8",
   "metadata": {},
   "outputs": [],
   "source": [
    "# Validacion cruzada del modelo con 15 particiones\n",
    "scores = cross_val_score(rf, X_test, y_test, cv=15) #por defecto 5 particiones\n",
    "print(scores) #los valores individuales de cada partición\n",
    "print(np.mean(scores)) #la media de acierto global"
   ]
  }
 ],
 "metadata": {
  "kernelspec": {
   "display_name": "Python 3 (ipykernel)",
   "language": "python",
   "name": "python3"
  },
  "language_info": {
   "codemirror_mode": {
    "name": "ipython",
    "version": 3
   },
   "file_extension": ".py",
   "mimetype": "text/x-python",
   "name": "python",
   "nbconvert_exporter": "python",
   "pygments_lexer": "ipython3",
   "version": "3.8.10"
  }
 },
 "nbformat": 4,
 "nbformat_minor": 5
}
