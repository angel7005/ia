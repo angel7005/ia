{
 "cells": [
  {
   "cell_type": "code",
   "execution_count": 1,
   "id": "695b2bca-53fa-4252-aa59-fe67f838590e",
   "metadata": {},
   "outputs": [
    {
     "name": "stdout",
     "output_type": "stream",
     "text": [
      "       SeniorCitizen       tenure  MonthlyCharges        Churn\n",
      "count    7032.000000  7032.000000     7032.000000  7032.000000\n",
      "mean        0.162400    32.421786       64.798208     0.265785\n",
      "std         0.368844    24.545260       30.085974     0.441782\n",
      "min         0.000000     1.000000       18.250000     0.000000\n",
      "25%         0.000000     9.000000       35.587500     0.000000\n",
      "50%         0.000000    29.000000       70.350000     0.000000\n",
      "75%         0.000000    55.000000       89.862500     1.000000\n",
      "max         1.000000    72.000000      118.750000     1.000000\n"
     ]
    }
   ],
   "source": [
    "## 1- Preparacion de los datos\n",
    "import pandas as pd\n",
    "\n",
    "# 1.1- Carga desde fichero y mostrar estadisticas\n",
    "X = pd.read_csv('./dataset_churn_all.csv', index_col=0)\n",
    "\n",
    "# Valores vacios se eliminan, leer README.md\n",
    "X = X.loc[(X['TotalCharges']!=' ')]\n",
    "X['Churn'].replace(['No','Yes'],[0,1], inplace=True)\n",
    "\n",
    "print(X.describe())"
   ]
  },
  {
   "cell_type": "code",
   "execution_count": 2,
   "id": "41d82fa0-fc38-457d-9297-ee1a097be9fe",
   "metadata": {},
   "outputs": [],
   "source": [
    "# 1.2 - Transformar variables tipo categoria a numericas\n",
    "from sklearn import preprocessing\n",
    "le = preprocessing.LabelEncoder()\n",
    "X['gender'] = le.fit_transform(X['gender'])\n",
    "X['Partner'] = le.fit_transform(X['Partner'])\n",
    "X['Dependents'] = le.fit_transform(X['Dependents'])\n",
    "X['PhoneService'] = le.fit_transform(X['PhoneService'])\n",
    "X['MultipleLines'] = le.fit_transform(X['MultipleLines'])\n",
    "X['InternetService'] = le.fit_transform(X['InternetService'])\n",
    "X['OnlineSecurity'] = le.fit_transform(X['OnlineSecurity'])\n",
    "X['OnlineBackup'] = le.fit_transform(X['OnlineBackup'])\n",
    "X['DeviceProtection'] = le.fit_transform(X['DeviceProtection'])\n",
    "X['TechSupport'] = le.fit_transform(X['TechSupport'])\n",
    "X['StreamingTV'] = le.fit_transform(X['StreamingTV'])\n",
    "X['StreamingMovies'] = le.fit_transform(X['StreamingMovies'])\n",
    "X['Contract'] = le.fit_transform(X['Contract'])\n",
    "X['PaperlessBilling'] = le.fit_transform(X['PaperlessBilling'])\n",
    "X['PaymentMethod'] = le.fit_transform(X['PaymentMethod'])"
   ]
  },
  {
   "cell_type": "code",
   "execution_count": 3,
   "id": "a911a30a-084e-4a19-9cea-ee8495669e4e",
   "metadata": {},
   "outputs": [],
   "source": [
    "#2- Dividir la muestra en entrenamiento con 90% y prueba 10%\n",
    "X1 = X.iloc[:int(len(X)*0.9)]\n",
    "X2 = X.iloc[int(len(X)*0.1)*-1:]\n",
    "X_train = X1.drop(['Churn'], axis=1)\n",
    "X_test  = X2.drop(['Churn'], axis=1)\n",
    "\n",
    "y_train = X1['Churn']\n",
    "y_test  = X2['Churn']"
   ]
  },
  {
   "cell_type": "code",
   "execution_count": 4,
   "id": "56d037c8-b23b-42fa-8f96-97c05612b366",
   "metadata": {},
   "outputs": [],
   "source": [
    "# RandomForest, con parametros ajustados\n",
    "from sklearn.ensemble import RandomForestClassifier\n",
    "from sklearn.metrics import f1_score, roc_auc_score\n",
    "\n",
    "rf = RandomForestClassifier(n_estimators=300, class_weight={1:10, 0:1}, max_depth=15, max_features=5, \n",
    "\tmin_samples_split=2, min_samples_leaf=2,random_state=42)\n",
    "rf.fit(X_train,y_train)\n",
    "\n",
    "#Calculo las predicciones con el conjunto de prueba X_test\n",
    "predictions = rf.predict(X_test)\n",
    "f1_rf = f1_score(y_test,predictions)\n",
    "roc_auc_rf = roc_auc_score(y_test,predictions)"
   ]
  },
  {
   "cell_type": "code",
   "execution_count": 5,
   "id": "518b40c9-5b0b-46a5-b482-376664394899",
   "metadata": {},
   "outputs": [],
   "source": [
    "# GradientBoosting, con parametros ajustados\n",
    "from sklearn.ensemble import GradientBoostingClassifier\n",
    "gb = GradientBoostingClassifier(learning_rate=0.1, max_depth=3, max_features=19,min_samples_leaf=2, random_state=42)\n",
    "gb.fit(X_train,y_train)\n",
    "\n",
    "#Calculo las predicciones con el conjunto de prueba X_test\n",
    "gb_predictions = gb.predict(X_test)\n",
    "f1_gb = f1_score(y_test,gb_predictions)\n",
    "roc_auc_gb = roc_auc_score(y_test,gb_predictions)"
   ]
  },
  {
   "cell_type": "code",
   "execution_count": 6,
   "id": "28df4a1b-4598-4a6a-b312-47215eec6a0d",
   "metadata": {},
   "outputs": [],
   "source": [
    "# MLPClassifier, con parametros ajustados\n",
    "from sklearn.neural_network import MLPClassifier\n",
    "mlp = MLPClassifier(activation='relu', hidden_layer_sizes=50, solver='adam', random_state=42)\n",
    "mlp.fit(X_train,y_train)\n",
    "\n",
    "#Calculo las predicciones con el conjunto de prueba X_test\n",
    "mlp_predictions = mlp.predict(X_test)\n",
    "f1_mlp = f1_score(y_test,mlp_predictions)\n",
    "roc_auc_mlp = roc_auc_score(y_test,mlp_predictions)"
   ]
  },
  {
   "cell_type": "code",
   "execution_count": 7,
   "id": "92c88a6b-580e-404d-ab24-c074e3ca744a",
   "metadata": {},
   "outputs": [],
   "source": [
    "# SVC, con parametros ajustados\n",
    "from sklearn.svm import SVC\n",
    "svm = SVC(C=3, gamma=0.01, kernel='rbf', random_state=42)\n",
    "svm.fit(X_train,y_train)\n",
    "\n",
    "#Calculo las predicciones con el conjunto de prueba X_test\n",
    "svm_predictions = svm.predict(X_test)\n",
    "f1_svm = f1_score(y_test,svm_predictions)\n",
    "roc_auc_svm = roc_auc_score(y_test,svm_predictions)"
   ]
  },
  {
   "cell_type": "code",
   "execution_count": 16,
   "id": "a265238a-f12f-443e-9aa7-35eeacf96619",
   "metadata": {},
   "outputs": [
    {
     "name": "stdout",
     "output_type": "stream",
     "text": [
      "[[ 4.13392386e-04  2.16504054e-01  4.21038404e-02 -1.69508753e-01\n",
      "  -5.04789808e-02 -1.01040458e+00  5.10164278e-02  2.38437928e-01\n",
      "  -2.46832179e-01 -1.42654029e-01 -8.06261458e-02 -2.64171781e-01\n",
      "   2.41427452e-02  1.90737889e-03 -7.77115400e-01  3.67413991e-01\n",
      "   5.88515905e-02  2.35589351e-02  2.42597138e-04]]\n"
     ]
    }
   ],
   "source": [
    "# LogisticRegression modelo con parametros ajustados\n",
    "from sklearn.linear_model import LogisticRegression\n",
    "lr = LogisticRegression(class_weight={ 0:1, 1:4}, solver='liblinear', random_state=42)\n",
    "lr.fit(X_train,y_train)\n",
    "\n",
    "#Calculo las predicciones con el conjunto de prueba X_test\n",
    "lr_predictions = lr.predict(X_test)\n",
    "f1_lr = f1_score(y_test,lr_predictions)\n",
    "roc_auc_lr = roc_auc_score(y_test,lr_predictions)\n"
   ]
  },
  {
   "cell_type": "code",
   "execution_count": 9,
   "id": "d7e27188-0f53-4795-8f53-e99a3489736f",
   "metadata": {},
   "outputs": [
    {
     "name": "stdout",
     "output_type": "stream",
     "text": [
      "           Modelo        f1   roc_auc\n",
      "0      RandomFor.  0.605201  0.729780\n",
      "1  GradientBoost.  0.604230  0.720977\n",
      "2   MLPClassifier  0.555911  0.692565\n",
      "3             SVC  0.511494  0.665213\n",
      "4  RegressionLog.  0.629423  0.763058\n"
     ]
    }
   ],
   "source": [
    "# Crear el dataframe con las metricas f1\n",
    "df = pd.DataFrame({\n",
    "    'Modelo' : ['RandomFor.', 'GradientBoost.', 'MLPClassifier', 'SVC', 'RegressionLog.'],\n",
    "    'f1': [f1_rf, f1_gb, f1_mlp, f1_svm, f1_lr],\n",
    "     'roc_auc': [roc_auc_rf,roc_auc_gb, roc_auc_mlp, roc_auc_svm, roc_auc_lr]\n",
    "})\n",
    "\n",
    "#imprimir tabla\n",
    "print(df)"
   ]
  },
  {
   "cell_type": "code",
   "execution_count": 10,
   "id": "67deea31-eb04-4be1-a548-52ad060532ec",
   "metadata": {},
   "outputs": [
    {
     "data": {
      "image/png": "[encoded data removed]",
      "text/plain": [
       "<Figure size 640x480 with 1 Axes>"
      ]
     },
     "metadata": {},
     "output_type": "display_data"
    }
   ],
   "source": [
    "# Graficar resultados\n",
    "import matplotlib.pyplot as plt\n",
    "plt.bar(df['Modelo'],df['f1'])\n",
    "plt.ylim([0,1])\n",
    "plt.xlabel('Modelo')\n",
    "plt.ylabel('f1')\n",
    "#plt.Title('Comparacion de modelos por f1')\n",
    "plt.show()"
   ]
  },
  {
   "cell_type": "code",
   "execution_count": 18,
   "id": "7c81e467-0437-48b6-b0d3-c4ce330f9404",
   "metadata": {},
   "outputs": [
    {
     "data": {
      "image/png": "[encoded data removed]",
      "text/plain": [
       "<Figure size 640x480 with 1 Axes>"
      ]
     },
     "metadata": {},
     "output_type": "display_data"
    }
   ],
   "source": [
    "# Graficar resultados\n",
    "import matplotlib.pyplot as plt\n",
    "plt.bar(df['Modelo'],df['roc_auc'])\n",
    "plt.ylim([0,1])\n",
    "plt.xlabel('Modelo')\n",
    "plt.ylabel('roc_auc')\n",
    "#plt.Title('Comparacion de modelos por roc_auc')\n",
    "plt.show()"
   ]
  },
  {
   "cell_type": "code",
   "execution_count": 17,
   "id": "1369b512-158e-44ca-aef3-d881524e49ae",
   "metadata": {},
   "outputs": [
    {
     "name": "stdout",
     "output_type": "stream",
     "text": [
      "            variable  importancia\n",
      "14          Contract     0.170747\n",
      "17    MonthlyCharges     0.159277\n",
      "18      TotalCharges     0.154168\n",
      "4             tenure     0.151599\n",
      "8     OnlineSecurity     0.053782\n",
      "11       TechSupport     0.045133\n",
      "16     PaymentMethod     0.044922\n",
      "7    InternetService     0.035698\n",
      "15  PaperlessBilling     0.021422\n",
      "9       OnlineBackup     0.021016\n",
      "0             gender     0.021005\n",
      "13   StreamingMovies     0.019183\n",
      "6      MultipleLines     0.018310\n",
      "3         Dependents     0.017627\n",
      "2            Partner     0.016953\n",
      "10  DeviceProtection     0.016598\n",
      "12       StreamingTV     0.015608\n",
      "1      SeniorCitizen     0.012041\n",
      "5       PhoneService     0.004911\n",
      "[[ 4.13392386e-04  2.16504054e-01  4.21038404e-02 -1.69508753e-01\n",
      "  -5.04789808e-02 -1.01040458e+00  5.10164278e-02  2.38437928e-01\n",
      "  -2.46832179e-01 -1.42654029e-01 -8.06261458e-02 -2.64171781e-01\n",
      "   2.41427452e-02  1.90737889e-03 -7.77115400e-01  3.67413991e-01\n",
      "   5.88515905e-02  2.35589351e-02  2.42597138e-04]]\n"
     ]
    }
   ],
   "source": [
    "#Imprimir variables mas relevante en la clasificacion\n",
    "importances = rf.feature_importances_\n",
    "df_importance = pd.DataFrame({'variable': X_train.columns, 'importancia': importances})\n",
    "df_importance = df_importance.sort_values('importancia', ascending=False)\n",
    "print(df_importance.head(20))\n",
    "print(lr.coef_)"
   ]
  },
  {
   "cell_type": "code",
   "execution_count": null,
   "id": "de5116f4-e218-4fc0-b0bd-878a51e52a69",
   "metadata": {},
   "outputs": [],
   "source": []
  }
 ],
 "metadata": {
  "kernelspec": {
   "display_name": "Python 3 (ipykernel)",
   "language": "python",
   "name": "python3"
  },
  "language_info": {
   "codemirror_mode": {
    "name": "ipython",
    "version": 3
   },
   "file_extension": ".py",
   "mimetype": "text/x-python",
   "name": "python",
   "nbconvert_exporter": "python",
   "pygments_lexer": "ipython3",
   "version": "3.8.10"
  }
 },
 "nbformat": 4,
 "nbformat_minor": 5
}
