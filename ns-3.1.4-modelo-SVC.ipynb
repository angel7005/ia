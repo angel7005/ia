{
 "cells": [
  {
   "cell_type": "code",
   "execution_count": 1,
   "id": "9ac3e8ba-10ed-4267-9e9c-0d02282d9068",
   "metadata": {},
   "outputs": [
    {
     "name": "stdout",
     "output_type": "stream",
     "text": [
      "       SeniorCitizen       tenure  MonthlyCharges        Churn\n",
      "count    7032.000000  7032.000000     7032.000000  7032.000000\n",
      "mean        0.162400    32.421786       64.798208     0.265785\n",
      "std         0.368844    24.545260       30.085974     0.441782\n",
      "min         0.000000     1.000000       18.250000     0.000000\n",
      "25%         0.000000     9.000000       35.587500     0.000000\n",
      "50%         0.000000    29.000000       70.350000     0.000000\n",
      "75%         0.000000    55.000000       89.862500     1.000000\n",
      "max         1.000000    72.000000      118.750000     1.000000\n"
     ]
    }
   ],
   "source": [
    "## 1- Preparacion de los datos\n",
    "\n",
    "import pandas as pd\n",
    "\n",
    "# 1.1- Carga desde fichero y mostrar estadisticas\n",
    "X = pd.read_csv('./dataset_churn_all.csv', index_col=0)\n",
    "\n",
    "#Por facilidad en los algoritmos remplazo las etiquetas de clases por valores numericos 0 y 1\n",
    "X['Churn'].replace(['No','Yes'],[0,1], inplace=True)\n",
    "\n",
    "# Valores vacios se eliminan, leer README.md\n",
    "X = X.loc[(X['TotalCharges']!=' ')]\n",
    "\n",
    "#Se muestran principales estadigrafos del modelo\n",
    "print(X.describe())"
   ]
  },
  {
   "cell_type": "code",
   "execution_count": 2,
   "id": "732be6d7-70a1-4b0f-9dd0-8261656820b7",
   "metadata": {},
   "outputs": [],
   "source": [
    "# 1.2 - Transformar variables tipo categorica a numericas\n",
    "\n",
    "from sklearn import preprocessing\n",
    "le = preprocessing.LabelEncoder()\n",
    "X['gender'] = le.fit_transform(X['gender'])\n",
    "X['Partner'] = le.fit_transform(X['Partner'])\n",
    "X['Dependents'] = le.fit_transform(X['Dependents'])\n",
    "X['PhoneService'] = le.fit_transform(X['PhoneService'])\n",
    "X['MultipleLines'] = le.fit_transform(X['MultipleLines'])\n",
    "X['InternetService'] = le.fit_transform(X['InternetService'])\n",
    "X['OnlineSecurity'] = le.fit_transform(X['OnlineSecurity'])\n",
    "X['OnlineBackup'] = le.fit_transform(X['OnlineBackup'])\n",
    "X['DeviceProtection'] = le.fit_transform(X['DeviceProtection'])\n",
    "X['TechSupport'] = le.fit_transform(X['TechSupport'])\n",
    "X['StreamingTV'] = le.fit_transform(X['StreamingTV'])\n",
    "X['StreamingMovies'] = le.fit_transform(X['StreamingMovies'])\n",
    "X['Contract'] = le.fit_transform(X['Contract'])\n",
    "X['PaperlessBilling'] = le.fit_transform(X['PaperlessBilling'])\n",
    "X['PaymentMethod'] = le.fit_transform(X['PaymentMethod'])"
   ]
  },
  {
   "cell_type": "code",
   "execution_count": 3,
   "id": "247fb791-35ef-4b08-97ea-c3fd58fc16ce",
   "metadata": {},
   "outputs": [],
   "source": [
    "# 2- Dividir la muestra en entrenamiento con 90% y prueba 10%\n",
    "\n",
    "X1 = X.iloc[:int(len(X)*0.9)]\n",
    "X2 = X.iloc[int(len(X)*0.1)*-1:]\n",
    "X_train = X1.drop(['Churn'], axis=1)\n",
    "X_test  = X2.drop(['Churn'], axis=1)\n",
    "\n",
    "y_train = X1['Churn']\n",
    "y_test  = X2['Churn']"
   ]
  },
  {
   "cell_type": "code",
   "execution_count": 5,
   "id": "c08b723f-01ff-40cf-9ad3-8e52dc891886",
   "metadata": {},
   "outputs": [
    {
     "name": "stdout",
     "output_type": "stream",
     "text": [
      "Fitting 7 folds for each of 30 candidates, totalling 210 fits\n"
     ]
    },
    {
     "data": {
      "text/html": [
       "<style>#sk-container-id-1 {color: black;}#sk-container-id-1 pre{padding: 0;}#sk-container-id-1 div.sk-toggleable {background-color: white;}#sk-container-id-1 label.sk-toggleable__label {cursor: pointer;display: block;width: 100%;margin-bottom: 0;padding: 0.3em;box-sizing: border-box;text-align: center;}#sk-container-id-1 label.sk-toggleable__label-arrow:before {content: \"▸\";float: left;margin-right: 0.25em;color: #696969;}#sk-container-id-1 label.sk-toggleable__label-arrow:hover:before {color: black;}#sk-container-id-1 div.sk-estimator:hover label.sk-toggleable__label-arrow:before {color: black;}#sk-container-id-1 div.sk-toggleable__content {max-height: 0;max-width: 0;overflow: hidden;text-align: left;background-color: #f0f8ff;}#sk-container-id-1 div.sk-toggleable__content pre {margin: 0.2em;color: black;border-radius: 0.25em;background-color: #f0f8ff;}#sk-container-id-1 input.sk-toggleable__control:checked~div.sk-toggleable__content {max-height: 200px;max-width: 100%;overflow: auto;}#sk-container-id-1 input.sk-toggleable__control:checked~label.sk-toggleable__label-arrow:before {content: \"▾\";}#sk-container-id-1 div.sk-estimator input.sk-toggleable__control:checked~label.sk-toggleable__label {background-color: #d4ebff;}#sk-container-id-1 div.sk-label input.sk-toggleable__control:checked~label.sk-toggleable__label {background-color: #d4ebff;}#sk-container-id-1 input.sk-hidden--visually {border: 0;clip: rect(1px 1px 1px 1px);clip: rect(1px, 1px, 1px, 1px);height: 1px;margin: -1px;overflow: hidden;padding: 0;position: absolute;width: 1px;}#sk-container-id-1 div.sk-estimator {font-family: monospace;background-color: #f0f8ff;border: 1px dotted black;border-radius: 0.25em;box-sizing: border-box;margin-bottom: 0.5em;}#sk-container-id-1 div.sk-estimator:hover {background-color: #d4ebff;}#sk-container-id-1 div.sk-parallel-item::after {content: \"\";width: 100%;border-bottom: 1px solid gray;flex-grow: 1;}#sk-container-id-1 div.sk-label:hover label.sk-toggleable__label {background-color: #d4ebff;}#sk-container-id-1 div.sk-serial::before {content: \"\";position: absolute;border-left: 1px solid gray;box-sizing: border-box;top: 0;bottom: 0;left: 50%;z-index: 0;}#sk-container-id-1 div.sk-serial {display: flex;flex-direction: column;align-items: center;background-color: white;padding-right: 0.2em;padding-left: 0.2em;position: relative;}#sk-container-id-1 div.sk-item {position: relative;z-index: 1;}#sk-container-id-1 div.sk-parallel {display: flex;align-items: stretch;justify-content: center;background-color: white;position: relative;}#sk-container-id-1 div.sk-item::before, #sk-container-id-1 div.sk-parallel-item::before {content: \"\";position: absolute;border-left: 1px solid gray;box-sizing: border-box;top: 0;bottom: 0;left: 50%;z-index: -1;}#sk-container-id-1 div.sk-parallel-item {display: flex;flex-direction: column;z-index: 1;position: relative;background-color: white;}#sk-container-id-1 div.sk-parallel-item:first-child::after {align-self: flex-end;width: 50%;}#sk-container-id-1 div.sk-parallel-item:last-child::after {align-self: flex-start;width: 50%;}#sk-container-id-1 div.sk-parallel-item:only-child::after {width: 0;}#sk-container-id-1 div.sk-dashed-wrapped {border: 1px dashed gray;margin: 0 0.4em 0.5em 0.4em;box-sizing: border-box;padding-bottom: 0.4em;background-color: white;}#sk-container-id-1 div.sk-label label {font-family: monospace;font-weight: bold;display: inline-block;line-height: 1.2em;}#sk-container-id-1 div.sk-label-container {text-align: center;}#sk-container-id-1 div.sk-container {/* jupyter's `normalize.less` sets `[hidden] { display: none; }` but bootstrap.min.css set `[hidden] { display: none !important; }` so we also need the `!important` here to be able to override the default hidden behavior on the sphinx rendered scikit-learn.org. See: https://github.com/scikit-learn/scikit-learn/issues/21755 */display: inline-block !important;position: relative;}#sk-container-id-1 div.sk-text-repr-fallback {display: none;}</style><div id=\"sk-container-id-1\" class=\"sk-top-container\"><div class=\"sk-text-repr-fallback\"><pre>GridSearchCV(cv=7, error_score=&#x27;raise&#x27;,\n",
       "             estimator=Pipeline(steps=[(&#x27;svc&#x27;, SVC(random_state=42))]),\n",
       "             n_jobs=-1,\n",
       "             param_grid={&#x27;svc__C&#x27;: (0.1, 0.3, 1, 3, 10, 30),\n",
       "                         &#x27;svc__gamma&#x27;: (0.01, 0.03, 0.1, 0.3, 1),\n",
       "                         &#x27;svc__kernel&#x27;: (&#x27;rbf&#x27;,)},\n",
       "             scoring=make_scorer(f1_score, zero_division=0), verbose=1)</pre><b>In a Jupyter environment, please rerun this cell to show the HTML representation or trust the notebook. <br />On GitHub, the HTML representation is unable to render, please try loading this page with nbviewer.org.</b></div><div class=\"sk-container\" hidden><div class=\"sk-item sk-dashed-wrapped\"><div class=\"sk-label-container\"><div class=\"sk-label sk-toggleable\"><input class=\"sk-toggleable__control sk-hidden--visually\" id=\"sk-estimator-id-1\" type=\"checkbox\" ><label for=\"sk-estimator-id-1\" class=\"sk-toggleable__label sk-toggleable__label-arrow\">GridSearchCV</label><div class=\"sk-toggleable__content\"><pre>GridSearchCV(cv=7, error_score=&#x27;raise&#x27;,\n",
       "             estimator=Pipeline(steps=[(&#x27;svc&#x27;, SVC(random_state=42))]),\n",
       "             n_jobs=-1,\n",
       "             param_grid={&#x27;svc__C&#x27;: (0.1, 0.3, 1, 3, 10, 30),\n",
       "                         &#x27;svc__gamma&#x27;: (0.01, 0.03, 0.1, 0.3, 1),\n",
       "                         &#x27;svc__kernel&#x27;: (&#x27;rbf&#x27;,)},\n",
       "             scoring=make_scorer(f1_score, zero_division=0), verbose=1)</pre></div></div></div><div class=\"sk-parallel\"><div class=\"sk-parallel-item\"><div class=\"sk-item\"><div class=\"sk-label-container\"><div class=\"sk-label sk-toggleable\"><input class=\"sk-toggleable__control sk-hidden--visually\" id=\"sk-estimator-id-2\" type=\"checkbox\" ><label for=\"sk-estimator-id-2\" class=\"sk-toggleable__label sk-toggleable__label-arrow\">estimator: Pipeline</label><div class=\"sk-toggleable__content\"><pre>Pipeline(steps=[(&#x27;svc&#x27;, SVC(random_state=42))])</pre></div></div></div><div class=\"sk-serial\"><div class=\"sk-item\"><div class=\"sk-serial\"><div class=\"sk-item\"><div class=\"sk-estimator sk-toggleable\"><input class=\"sk-toggleable__control sk-hidden--visually\" id=\"sk-estimator-id-3\" type=\"checkbox\" ><label for=\"sk-estimator-id-3\" class=\"sk-toggleable__label sk-toggleable__label-arrow\">SVC</label><div class=\"sk-toggleable__content\"><pre>SVC(random_state=42)</pre></div></div></div></div></div></div></div></div></div></div></div></div>"
      ],
      "text/plain": [
       "GridSearchCV(cv=7, error_score='raise',\n",
       "             estimator=Pipeline(steps=[('svc', SVC(random_state=42))]),\n",
       "             n_jobs=-1,\n",
       "             param_grid={'svc__C': (0.1, 0.3, 1, 3, 10, 30),\n",
       "                         'svc__gamma': (0.01, 0.03, 0.1, 0.3, 1),\n",
       "                         'svc__kernel': ('rbf',)},\n",
       "             scoring=make_scorer(f1_score, zero_division=0), verbose=1)"
      ]
     },
     "execution_count": 5,
     "metadata": {},
     "output_type": "execute_result"
    }
   ],
   "source": [
    "# 3- Se selecciona algoritmo SVC\n",
    "#    Optimizar rendimiento del modelo\n",
    "#    Buscar los parametros optimos con GridSearchCV, \n",
    "#    Utilizando validacion cruzada, para mejor generalizacion del modelo, \n",
    "#    evitando el sobre ajuste y favoreciendo la clase minoritaria 'Yes' que es la\n",
    "#    que nos interesa.\n",
    "\n",
    "from sklearn.pipeline import Pipeline\n",
    "from sklearn.model_selection import GridSearchCV\n",
    "from sklearn.svm import SVC\n",
    "from sklearn.metrics import make_scorer, f1_score\n",
    "\n",
    "model = SVC( random_state=42)\n",
    "\n",
    "pipeline = Pipeline([('svc',  model),])\n",
    "\n",
    "# Parametros del espacio de busqueda asociado a RandomForest\n",
    "# OJO: por problemas de recursos(RAM) no probe con otros kernels y parametros. \n",
    "# Se dejo lo mas simple posible\n",
    "parameters = {\t\n",
    "    'svc__kernel': ('rbf',) ,\n",
    "    'svc__gamma': (0.01, 0.03, 0.1, 0.3, 1),\n",
    "    'svc__C': (0.1, 0.3, 1, 3, 10, 30),\n",
    "}\n",
    "\n",
    "# Metricas de precision a utilizar para la optimizacion de los parametros\n",
    "scorers = {\n",
    "    'f1': make_scorer(f1_score, zero_division=0)   \n",
    "    #'f1': make_scorer(f1_score, labels= ('No', 'Yes'), pos_label ='Yes', zero_division=0)   \n",
    " }\n",
    "\n",
    "# Buscar mejor ajuste\n",
    "grid_search = GridSearchCV(pipeline, parameters,  n_jobs=-1, verbose=1, scoring=scorers['f1'], \n",
    "\t   error_score='raise', cv=7)\n",
    "grid_search.fit(X_train, y_train)\t"
   ]
  },
  {
   "cell_type": "code",
   "execution_count": null,
   "id": "cb538508-0b91-4d9b-8805-8513b7f41540",
   "metadata": {},
   "outputs": [],
   "source": [
    "# Mostrar los parametros optimos del modelo\n",
    "print(\"Mejor score: %0.3f\" % grid_search.best_score_)\n",
    "print(\"Mejor conjunto de parametros:\")\n",
    "best_parameters = grid_search.best_estimator_.get_params()\n",
    "\n",
    "for param_name in sorted(parameters.keys()):\n",
    "\tprint(\"\\t%s: %r\" % (param_name, best_parameters[param_name]))\n"
   ]
  },
  {
   "cell_type": "code",
   "execution_count": null,
   "id": "35debf7a-6882-409b-b453-a6c470871ed7",
   "metadata": {},
   "outputs": [],
   "source": [
    "predictions = grid_search.predict(X_test)\n",
    "set(y_test)-set(predictions)\n",
    "#print(predictions)"
   ]
  },
  {
   "cell_type": "code",
   "execution_count": null,
   "id": "0dc97da7-7ccd-4ea0-ab76-5626f8c8d822",
   "metadata": {},
   "outputs": [],
   "source": [
    "#Mostrar el rendimiento del modelo\n",
    "from sklearn.metrics import classification_report\n",
    "\n",
    "predictions = grid_search.predict(X_test)\n",
    "\n",
    "#print(classification_report(y_test, predictions, target_names=('No', 'Yes',), labels=('No', 'Yes',), digits=4))\n",
    "print(classification_report(y_test, predictions, digits=4))"
   ]
  },
  {
   "cell_type": "code",
   "execution_count": null,
   "id": "22cfb288-2df4-499b-b8b1-d3d74648624e",
   "metadata": {},
   "outputs": [],
   "source": [
    "#Mostrar matrix de confusion\n",
    "from sklearn.metrics import ConfusionMatrixDisplay\n",
    "disp = ConfusionMatrixDisplay.from_predictions(y_test, predictions)"
   ]
  },
  {
   "cell_type": "code",
   "execution_count": null,
   "id": "f508abed-538b-4463-b5b2-9dc7d611b9cd",
   "metadata": {},
   "outputs": [],
   "source": [
    "#Calcular la curba ROC\n",
    "from sklearn.metrics import roc_curve, auc\n",
    "import matplotlib.pyplot as plt\n",
    "best_model = grid_search.best_estimator_\n",
    "fpr, tpr, thresholds = roc_curve(y_test, predictions, pos_label=best_model.classes_[1])\n",
    "roc_auc = auc(fpr,tpr)\n",
    "figura = plt.figure()\n",
    "plt.title('Cutomer churn - ROC_AUC')\n",
    "plt.plot(fpr,tpr,'b', label='AUC =%0.2f' % roc_auc)\n",
    "plt.legend(loc='lower right')\n",
    "plt.plot([0,1], [0,1],'r--')\n",
    "plt.xlim([0.0, 1.0])\n",
    "plt.ylim([0.0, 1.0])\n",
    "plt.ylabel('Verdaderos positivos')\n",
    "plt.xlabel('Falsos positivos')\n",
    "disp1 = plt.show()"
   ]
  }
 ],
 "metadata": {
  "kernelspec": {
   "display_name": "Python 3 (ipykernel)",
   "language": "python",
   "name": "python3"
  },
  "language_info": {
   "codemirror_mode": {
    "name": "ipython",
    "version": 3
   },
   "file_extension": ".py",
   "mimetype": "text/x-python",
   "name": "python",
   "nbconvert_exporter": "python",
   "pygments_lexer": "ipython3",
   "version": "3.8.10"
  }
 },
 "nbformat": 4,
 "nbformat_minor": 5
}
